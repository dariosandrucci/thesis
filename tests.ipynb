{
 "cells": [
  {
   "cell_type": "code",
   "execution_count": 2,
   "metadata": {},
   "outputs": [],
   "source": [
    "import numpy as np\n",
    "import pandas as pd\n",
    "import seaborn as sns\n",
    "from matplotlib import pyplot as plt\n",
    "from sklearn.linear_model import LinearRegression\n",
    "import pandas_datareader as pdr\n",
    "import statsmodels.api as sm\n",
    "from datetime import datetime as dt"
   ]
  },
  {
   "cell_type": "code",
   "execution_count": 16,
   "metadata": {},
   "outputs": [
    {
     "ename": "ValueError",
     "evalue": "The tiingo API key must be provided either through the api_key variable or through the environmental variable TIINGO_API_KEY.",
     "output_type": "error",
     "traceback": [
      "\u001b[0;31m---------------------------------------------------------------------------\u001b[0m",
      "\u001b[0;31mValueError\u001b[0m                                Traceback (most recent call last)",
      "Cell \u001b[0;32mIn [16], line 3\u001b[0m\n\u001b[1;32m      1\u001b[0m \u001b[39mimport\u001b[39;00m \u001b[39mpandas_datareader\u001b[39;00m \u001b[39mas\u001b[39;00m \u001b[39mpdr\u001b[39;00m\n\u001b[0;32m----> 3\u001b[0m pdr\u001b[39m.\u001b[39;49mget_data_tiingo([\u001b[39m\"\u001b[39;49m\u001b[39m002153\u001b[39;49m\u001b[39m\"\u001b[39;49m])\n",
      "File \u001b[0;32m~/Desktop/Projects/thesis/algorithm/thesis_venv/lib/python3.8/site-packages/pandas_datareader/data.py:120\u001b[0m, in \u001b[0;36mget_data_tiingo\u001b[0;34m(*args, **kwargs)\u001b[0m\n\u001b[1;32m    119\u001b[0m \u001b[39mdef\u001b[39;00m \u001b[39mget_data_tiingo\u001b[39m(\u001b[39m*\u001b[39margs, \u001b[39m*\u001b[39m\u001b[39m*\u001b[39mkwargs):\n\u001b[0;32m--> 120\u001b[0m     \u001b[39mreturn\u001b[39;00m TiingoDailyReader(\u001b[39m*\u001b[39;49margs, \u001b[39m*\u001b[39;49m\u001b[39m*\u001b[39;49mkwargs)\u001b[39m.\u001b[39mread()\n",
      "File \u001b[0;32m~/Desktop/Projects/thesis/algorithm/thesis_venv/lib/python3.8/site-packages/pandas_datareader/tiingo.py:183\u001b[0m, in \u001b[0;36mTiingoDailyReader.__init__\u001b[0;34m(self, symbols, start, end, retry_count, pause, timeout, session, freq, api_key)\u001b[0m\n\u001b[1;32m    181\u001b[0m     api_key \u001b[39m=\u001b[39m os\u001b[39m.\u001b[39mgetenv(\u001b[39m\"\u001b[39m\u001b[39mTIINGO_API_KEY\u001b[39m\u001b[39m\"\u001b[39m)\n\u001b[1;32m    182\u001b[0m \u001b[39mif\u001b[39;00m \u001b[39mnot\u001b[39;00m api_key \u001b[39mor\u001b[39;00m \u001b[39mnot\u001b[39;00m \u001b[39misinstance\u001b[39m(api_key, \u001b[39mstr\u001b[39m):\n\u001b[0;32m--> 183\u001b[0m     \u001b[39mraise\u001b[39;00m \u001b[39mValueError\u001b[39;00m(\n\u001b[1;32m    184\u001b[0m         \u001b[39m\"\u001b[39m\u001b[39mThe tiingo API key must be provided either \u001b[39m\u001b[39m\"\u001b[39m\n\u001b[1;32m    185\u001b[0m         \u001b[39m\"\u001b[39m\u001b[39mthrough the api_key variable or through the \u001b[39m\u001b[39m\"\u001b[39m\n\u001b[1;32m    186\u001b[0m         \u001b[39m\"\u001b[39m\u001b[39menvironmental variable TIINGO_API_KEY.\u001b[39m\u001b[39m\"\u001b[39m\n\u001b[1;32m    187\u001b[0m     )\n\u001b[1;32m    188\u001b[0m \u001b[39mself\u001b[39m\u001b[39m.\u001b[39mapi_key \u001b[39m=\u001b[39m api_key\n\u001b[1;32m    189\u001b[0m \u001b[39mself\u001b[39m\u001b[39m.\u001b[39m_concat_axis \u001b[39m=\u001b[39m \u001b[39m0\u001b[39m\n",
      "\u001b[0;31mValueError\u001b[0m: The tiingo API key must be provided either through the api_key variable or through the environmental variable TIINGO_API_KEY."
     ]
    }
   ],
   "source": [
    "import pandas_datareader as pdr\n",
    "\n",
    "pdr.get_data_tiingo()"
   ]
  }
 ],
 "metadata": {
  "kernelspec": {
   "display_name": "Python 3.8.8 ('thesis_venv': venv)",
   "language": "python",
   "name": "python3"
  },
  "language_info": {
   "codemirror_mode": {
    "name": "ipython",
    "version": 3
   },
   "file_extension": ".py",
   "mimetype": "text/x-python",
   "name": "python",
   "nbconvert_exporter": "python",
   "pygments_lexer": "ipython3",
   "version": "3.8.8"
  },
  "orig_nbformat": 4,
  "vscode": {
   "interpreter": {
    "hash": "67863a13b4463f7c55215db475ce7ee5125ba07ff968942bd186a68ec48ae3a3"
   }
  }
 },
 "nbformat": 4,
 "nbformat_minor": 2
}
