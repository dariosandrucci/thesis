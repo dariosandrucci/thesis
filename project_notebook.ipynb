{
 "cells": [
  {
   "cell_type": "markdown",
   "metadata": {},
   "source": [
    "# Project Notebook\n",
    "##### Created by Dario Sandrucci 48436"
   ]
  },
  {
   "cell_type": "markdown",
   "metadata": {},
   "source": [
    "bla bla bla"
   ]
  },
  {
   "cell_type": "markdown",
   "metadata": {},
   "source": [
    "### 0. Import Packages"
   ]
  },
  {
   "cell_type": "code",
   "execution_count": 1,
   "metadata": {},
   "outputs": [],
   "source": [
    "from data_engineering import *\n",
    "from denoising_and_detoning import *\n",
    "from algorithm import *\n",
    "from portfolio_and_backtesting import *"
   ]
  },
  {
   "cell_type": "markdown",
   "metadata": {},
   "source": [
    "### 1. Data Preparation and Exploration"
   ]
  },
  {
   "cell_type": "markdown",
   "metadata": {},
   "source": [
    "##### 1.1 Loading Data"
   ]
  },
  {
   "cell_type": "markdown",
   "metadata": {},
   "source": [
    "Let import return data from S&P 500 stocks over the period of approximately the last 10 years."
   ]
  },
  {
   "cell_type": "code",
   "execution_count": 2,
   "metadata": {},
   "outputs": [
    {
     "name": "stdout",
     "output_type": "stream",
     "text": [
      "Data was loaded sucessfully!\n"
     ]
    }
   ],
   "source": [
    "tickers = getTickers()\n",
    "end = dt.now()\n",
    "start = dt.fromisoformat('2012-10-15')\n",
    "df = getData(start, end, tickers, downloaded = True)"
   ]
  },
  {
   "cell_type": "markdown",
   "metadata": {},
   "source": [
    "##### 1.2 Data Visualization"
   ]
  },
  {
   "cell_type": "markdown",
   "metadata": {},
   "source": [
    "A chart the shows the percentage returns over the period of the sample."
   ]
  },
  {
   "cell_type": "code",
   "execution_count": null,
   "metadata": {},
   "outputs": [],
   "source": [
    "ax = df.plot(legend=False, figsize=(20,10))\n",
    "ax.set_ylabel('percentage returns')\n",
    "ax.set_title('Log Returns of S&P500 Stocks for Training Period')"
   ]
  },
  {
   "cell_type": "markdown",
   "metadata": {},
   "source": [
    "A chart to show the cummulative returns of the SPY index over the data period."
   ]
  },
  {
   "cell_type": "code",
   "execution_count": null,
   "metadata": {},
   "outputs": [],
   "source": [
    "spy_returns = pdr.get_data_yahoo([\"SPY\"], start, end)[\"Close\"]\n",
    "spy_returns = spy_returns.pct_change().dropna(axis = 0)\n",
    "spy_cum = np.cumprod(1 + spy_returns) - 1\n",
    "spy_cum.columns = [\"S&P 500 Index\"]\n",
    "\n",
    "ax = spy_cum.plot(legend=False, figsize=(8,5))\n",
    "ax.set_ylabel('cumulative returns')\n",
    "ax.set_title('Cummulative returns of the S&P 500 Index over the period of the data set')"
   ]
  },
  {
   "cell_type": "markdown",
   "metadata": {},
   "source": [
    "##### 1.3 Data Transformation"
   ]
  },
  {
   "cell_type": "markdown",
   "metadata": {},
   "source": [
    "We will split the set into train and test set."
   ]
  },
  {
   "cell_type": "code",
   "execution_count": 3,
   "metadata": {},
   "outputs": [],
   "source": [
    "train_set, test_set = testTrainSplit(df, validation_set = False, w_tt = [0.9, 0.1])"
   ]
  },
  {
   "cell_type": "markdown",
   "metadata": {},
   "source": [
    "Now lets derive the empirical correlation matrix of our return data."
   ]
  },
  {
   "cell_type": "code",
   "execution_count": 4,
   "metadata": {},
   "outputs": [],
   "source": [
    "corr0 = pd.DataFrame(getCorrMatrix(train_set), index = train_set.columns, columns = train_set.columns )"
   ]
  },
  {
   "cell_type": "code",
   "execution_count": null,
   "metadata": {},
   "outputs": [],
   "source": [
    "# Create a heatmap of the correlation matrix\n",
    "sns.heatmap(corr0)\n",
    "plt.title('Correlation Matrix')\n",
    "\n",
    "# Create a clustermap\n",
    "sns.clustermap(corr0, method='average', figsize=(8,8)).fig.suptitle('Stocks Clustered Based on Correlation Distances', fontsize=14)"
   ]
  },
  {
   "cell_type": "markdown",
   "metadata": {},
   "source": [
    "### 2. Denoise and Detone the Empirical correlation Matrix"
   ]
  },
  {
   "cell_type": "markdown",
   "metadata": {},
   "source": [
    "Lets denoise the correlation matrix."
   ]
  },
  {
   "cell_type": "code",
   "execution_count": 5,
   "metadata": {},
   "outputs": [],
   "source": [
    "eVal0, eVec0, eVal1, eVec1, corr1, var0 = denoiseMatrix(corr0)"
   ]
  },
  {
   "cell_type": "code",
   "execution_count": null,
   "metadata": {},
   "outputs": [],
   "source": [
    "# Create a heatmap of the correlation matrix\n",
    "sns.heatmap(corr1)\n",
    "plt.title('Correlation Matrix')\n",
    "\n",
    "# Create a clustermap\n",
    "sns.clustermap(corr1, method='average', figsize=(8,8)).fig.suptitle('Stocks Clustered Based on Correlation Distances', fontsize=14)"
   ]
  },
  {
   "cell_type": "markdown",
   "metadata": {},
   "source": [
    "Next lets detone the correlation matrix."
   ]
  },
  {
   "cell_type": "code",
   "execution_count": 6,
   "metadata": {},
   "outputs": [],
   "source": [
    "corr2 = detoneMatrix(corr1, eVal1, eVec1)"
   ]
  },
  {
   "cell_type": "code",
   "execution_count": null,
   "metadata": {},
   "outputs": [],
   "source": [
    "# Create a heatmap of the correlation matrix\n",
    "sns.heatmap(corr2)\n",
    "plt.title('Correlation Matrix')\n",
    "\n",
    "# Create a clustermap\n",
    "sns.clustermap(corr2, method='average', figsize=(8,8)).fig.suptitle('Stocks Clustered Based on Correlation Distances', fontsize=14)"
   ]
  },
  {
   "cell_type": "markdown",
   "metadata": {},
   "source": [
    "## 3. Distance Metrics"
   ]
  },
  {
   "cell_type": "markdown",
   "metadata": {},
   "source": [
    "We will use the mikowski distance metric. Our denoised and detoned correlation matrix is transformed accordingly."
   ]
  },
  {
   "cell_type": "code",
   "execution_count": 7,
   "metadata": {},
   "outputs": [],
   "source": [
    "from sklearn.metrics import pairwise_distances"
   ]
  },
  {
   "cell_type": "code",
   "execution_count": 8,
   "metadata": {},
   "outputs": [],
   "source": [
    "min_matrix = np.array(pairwise_distances(corr2, metric = \"minkowski\"))"
   ]
  },
  {
   "cell_type": "markdown",
   "metadata": {},
   "source": [
    "## 3. Portfolio Construction"
   ]
  },
  {
   "cell_type": "markdown",
   "metadata": {},
   "source": [
    "#### 3.1 Clustering"
   ]
  },
  {
   "cell_type": "markdown",
   "metadata": {},
   "source": [
    "##### 3.1.1 Finding the number of clusters"
   ]
  },
  {
   "cell_type": "markdown",
   "metadata": {},
   "source": [
    "Our first method is the Elbow method"
   ]
  },
  {
   "cell_type": "code",
   "execution_count": null,
   "metadata": {},
   "outputs": [],
   "source": [
    "nr_clusters_sse = sse(min_matrix)"
   ]
  },
  {
   "cell_type": "markdown",
   "metadata": {},
   "source": [
    "Now lets try the Silhouette method"
   ]
  },
  {
   "cell_type": "code",
   "execution_count": null,
   "metadata": {},
   "outputs": [],
   "source": [
    "nr_clusters_sil = sil_score(min_matrix)"
   ]
  },
  {
   "cell_type": "markdown",
   "metadata": {},
   "source": [
    "Our last method is the Davies-Boulding Score"
   ]
  },
  {
   "cell_type": "code",
   "execution_count": null,
   "metadata": {},
   "outputs": [],
   "source": [
    "nr_clusters_db = db_score(min_matrix)"
   ]
  },
  {
   "cell_type": "markdown",
   "metadata": {},
   "source": [
    "We will use the median number of clusters for for Kmeans."
   ]
  },
  {
   "cell_type": "markdown",
   "metadata": {},
   "source": [
    "##### 3.1.2 Running the clustering algorithm"
   ]
  },
  {
   "cell_type": "code",
   "execution_count": null,
   "metadata": {},
   "outputs": [],
   "source": [
    "w = optPort_nco(train_set, min_matrix, 3, 0.5, 50, 5)"
   ]
  },
  {
   "cell_type": "markdown",
   "metadata": {},
   "source": [
    "## 4. Perfromance evaluation"
   ]
  },
  {
   "cell_type": "markdown",
   "metadata": {},
   "source": [
    "#### 4.1. Benchmarking"
   ]
  },
  {
   "cell_type": "markdown",
   "metadata": {},
   "source": [
    "##### 4.1.1 Clustering vs general portfolios"
   ]
  },
  {
   "cell_type": "markdown",
   "metadata": {},
   "source": [
    "We will compare our clustering portfolio with a few other common portfolio types, the mean-variance optimized (MVP), risk-parity (RPP), and equal-weighted portfolio (EWP), as well as the S&P index itself (SPY).\n",
    "\n",
    "First let calculated the portfolio weights:"
   ]
  },
  {
   "cell_type": "code",
   "execution_count": 9,
   "metadata": {},
   "outputs": [
    {
     "name": "stdout",
     "output_type": "stream",
     "text": [
      "\n",
      "Nested Clustering Algorithm 2.1.2\n",
      "\n",
      "Processing input data....\n",
      "Clustering algorithm in progress...\n"
     ]
    },
    {
     "name": "stderr",
     "output_type": "stream",
     "text": [
      "100%|██████████| 1/1 [00:00<00:00,  1.22it/s]\n",
      "100%|██████████| 1/1 [00:00<00:00,  2.64it/s]\n",
      "100%|██████████| 1/1 [00:01<00:00,  1.17s/it]\n",
      "100%|██████████| 1/1 [00:00<00:00,  2.85it/s]\n",
      "100%|██████████| 1/1 [00:00<00:00,  1.56it/s]\n"
     ]
    },
    {
     "name": "stdout",
     "output_type": "stream",
     "text": [
      "Calculating inter cluster weights for cluster 1 of 3...\n"
     ]
    },
    {
     "name": "stderr",
     "output_type": "stream",
     "text": [
      "100%|██████████| 50/50 [00:01<00:00, 49.11it/s]\n"
     ]
    },
    {
     "name": "stdout",
     "output_type": "stream",
     "text": [
      "Calculating inter cluster weights for cluster 2 of 3...\n"
     ]
    },
    {
     "name": "stderr",
     "output_type": "stream",
     "text": [
      "100%|██████████| 50/50 [00:00<00:00, 53.21it/s]\n"
     ]
    },
    {
     "name": "stdout",
     "output_type": "stream",
     "text": [
      "Calculating inter cluster weights for cluster 3 of 3...\n"
     ]
    },
    {
     "name": "stderr",
     "output_type": "stream",
     "text": [
      "100%|██████████| 50/50 [00:00<00:00, 54.36it/s]\n"
     ]
    },
    {
     "name": "stdout",
     "output_type": "stream",
     "text": [
      "Calculating inter cluster weights...\n"
     ]
    },
    {
     "name": "stderr",
     "output_type": "stream",
     "text": [
      "100%|██████████| 50/50 [00:00<00:00, 54.78it/s]\n"
     ]
    },
    {
     "name": "stdout",
     "output_type": "stream",
     "text": [
      "Nested clustering algorithm completed sucessful!\n"
     ]
    },
    {
     "name": "stderr",
     "output_type": "stream",
     "text": [
      "100%|██████████| 100000/100000 [00:27<00:00, 3679.71it/s]\n"
     ]
    }
   ],
   "source": [
    "#Clustering\n",
    "w_NCOMO = optPort_nco(train_set, min_matrix, 3, 0.5, 50, 5)\n",
    "#EW\n",
    "w_EW = np.ones(len(train_set.columns))\n",
    "w_EW /= [len(train_set.columns)]*len(train_set.columns)\n",
    "#MVO\n",
    "w_MVO = optPortMVO(train_set)\n",
    "#RPP\n",
    "w_RPP = optPortRPP(train_set)"
   ]
  },
  {
   "cell_type": "markdown",
   "metadata": {},
   "source": [
    "Not lets build the portfolios:"
   ]
  },
  {
   "cell_type": "code",
   "execution_count": null,
   "metadata": {},
   "outputs": [],
   "source": [
    "#building the single portfolios\n",
    "port_NCOMO = Portfolio(\"NCO Minkowski Omega\", test_set, w_NCOMO)\n",
    "port_EWP = Portfolio(\"Equal Weighted\", test_set, w_EW)\n",
    "port_MVO = Portfolio(\"Mean Variance\", test_set, w_MVO)\n",
    "port_RPP = Portfolio(\"Risk Parity\", test_set, w_RPP)\n",
    "#comparing the portfolios\n",
    "BM1 = PortfolioBenchmarking([port_NCOMO, port_EWP, port_MVO, port_RPP])"
   ]
  },
  {
   "cell_type": "markdown",
   "metadata": {},
   "source": [
    "We are ready to perform some comparisons:"
   ]
  },
  {
   "cell_type": "code",
   "execution_count": null,
   "metadata": {},
   "outputs": [],
   "source": [
    "BM1.plot_performance()"
   ]
  },
  {
   "cell_type": "markdown",
   "metadata": {},
   "source": [
    "##### 4.1.2 Cluster algorithm configurations"
   ]
  },
  {
   "cell_type": "markdown",
   "metadata": {},
   "source": [
    "We will now compare different configurations of the NCO to see the impact of different inputs. First lets calculate again the different weights:"
   ]
  },
  {
   "cell_type": "code",
   "execution_count": 10,
   "metadata": {},
   "outputs": [
    {
     "name": "stderr",
     "output_type": "stream",
     "text": [
      "100%|██████████| 100000/100000 [00:32<00:00, 3089.34it/s]\n"
     ]
    },
    {
     "name": "stdout",
     "output_type": "stream",
     "text": [
      "\n",
      "Nested Clustering Algorithm 2.1.2\n",
      "\n",
      "Processing input data....\n",
      "Clustering algorithm in progress...\n"
     ]
    },
    {
     "name": "stderr",
     "output_type": "stream",
     "text": [
      "100%|██████████| 1/1 [00:00<00:00,  4.53it/s]\n",
      "100%|██████████| 1/1 [00:00<00:00,  4.38it/s]\n",
      "100%|██████████| 1/1 [00:00<00:00,  3.73it/s]\n",
      "100%|██████████| 1/1 [00:00<00:00,  4.11it/s]\n",
      "100%|██████████| 1/1 [00:00<00:00,  3.54it/s]\n"
     ]
    },
    {
     "name": "stdout",
     "output_type": "stream",
     "text": [
      "Calculating inter cluster weights for cluster 1 of 3...\n"
     ]
    },
    {
     "name": "stderr",
     "output_type": "stream",
     "text": [
      "100%|██████████| 50/50 [00:01<00:00, 29.65it/s]\n"
     ]
    },
    {
     "name": "stdout",
     "output_type": "stream",
     "text": [
      "Calculating inter cluster weights for cluster 2 of 3...\n"
     ]
    },
    {
     "name": "stderr",
     "output_type": "stream",
     "text": [
      "100%|██████████| 50/50 [00:01<00:00, 36.96it/s]\n"
     ]
    },
    {
     "name": "stdout",
     "output_type": "stream",
     "text": [
      "Calculating inter cluster weights for cluster 3 of 3...\n"
     ]
    },
    {
     "name": "stderr",
     "output_type": "stream",
     "text": [
      "100%|██████████| 50/50 [00:01<00:00, 38.22it/s]\n"
     ]
    },
    {
     "name": "stdout",
     "output_type": "stream",
     "text": [
      "Calculating inter cluster weights...\n"
     ]
    },
    {
     "name": "stderr",
     "output_type": "stream",
     "text": [
      "100%|██████████| 50/50 [00:00<00:00, 50.24it/s]\n"
     ]
    },
    {
     "name": "stdout",
     "output_type": "stream",
     "text": [
      "Nested clustering algorithm completed sucessful!\n",
      "\n",
      "Nested Clustering Algorithm 2.1.2\n",
      "\n",
      "Processing input data....\n",
      "Clustering algorithm in progress...\n"
     ]
    },
    {
     "name": "stderr",
     "output_type": "stream",
     "text": [
      "100%|██████████| 1/1 [00:00<00:00,  3.84it/s]\n",
      "100%|██████████| 1/1 [00:00<00:00,  4.12it/s]\n",
      "100%|██████████| 1/1 [00:00<00:00,  2.19it/s]\n",
      "100%|██████████| 1/1 [00:00<00:00,  3.00it/s]\n",
      "100%|██████████| 1/1 [00:00<00:00,  1.25it/s]\n"
     ]
    },
    {
     "name": "stdout",
     "output_type": "stream",
     "text": [
      "Calculating inter cluster weights for cluster 1 of 3...\n"
     ]
    },
    {
     "name": "stderr",
     "output_type": "stream",
     "text": [
      "100%|██████████| 50/50 [00:00<00:00, 60.04it/s]\n"
     ]
    },
    {
     "name": "stdout",
     "output_type": "stream",
     "text": [
      "Calculating inter cluster weights for cluster 2 of 3...\n"
     ]
    },
    {
     "name": "stderr",
     "output_type": "stream",
     "text": [
      "100%|██████████| 50/50 [00:00<00:00, 56.93it/s]\n"
     ]
    },
    {
     "name": "stdout",
     "output_type": "stream",
     "text": [
      "Calculating inter cluster weights for cluster 3 of 3...\n"
     ]
    },
    {
     "name": "stderr",
     "output_type": "stream",
     "text": [
      "100%|██████████| 50/50 [00:00<00:00, 53.73it/s]\n"
     ]
    },
    {
     "name": "stdout",
     "output_type": "stream",
     "text": [
      "Calculating inter cluster weights...\n"
     ]
    },
    {
     "name": "stderr",
     "output_type": "stream",
     "text": [
      "100%|██████████| 50/50 [00:01<00:00, 42.18it/s]\n"
     ]
    },
    {
     "name": "stdout",
     "output_type": "stream",
     "text": [
      "Nested clustering algorithm completed sucessful!\n",
      "\n",
      "Nested Clustering Algorithm 2.1.2\n",
      "\n",
      "Processing input data....\n",
      "Clustering algorithm in progress...\n"
     ]
    },
    {
     "name": "stderr",
     "output_type": "stream",
     "text": [
      "100%|██████████| 1/1 [00:00<00:00,  3.65it/s]\n",
      "100%|██████████| 1/1 [00:00<00:00,  3.78it/s]\n",
      "100%|██████████| 1/1 [00:00<00:00,  1.40it/s]\n",
      "100%|██████████| 1/1 [00:00<00:00,  3.57it/s]\n",
      "100%|██████████| 1/1 [00:00<00:00,  3.54it/s]\n"
     ]
    },
    {
     "name": "stdout",
     "output_type": "stream",
     "text": [
      "Calculating inter cluster weights for cluster 1 of 3...\n"
     ]
    },
    {
     "name": "stderr",
     "output_type": "stream",
     "text": [
      "100%|██████████| 50/50 [00:01<00:00, 46.14it/s]\n"
     ]
    },
    {
     "name": "stdout",
     "output_type": "stream",
     "text": [
      "Calculating inter cluster weights for cluster 2 of 3...\n"
     ]
    },
    {
     "name": "stderr",
     "output_type": "stream",
     "text": [
      "100%|██████████| 50/50 [00:00<00:00, 54.94it/s]\n"
     ]
    },
    {
     "name": "stdout",
     "output_type": "stream",
     "text": [
      "Calculating inter cluster weights for cluster 3 of 3...\n"
     ]
    },
    {
     "name": "stderr",
     "output_type": "stream",
     "text": [
      "100%|██████████| 50/50 [00:00<00:00, 57.15it/s]\n"
     ]
    },
    {
     "name": "stdout",
     "output_type": "stream",
     "text": [
      "Calculating inter cluster weights...\n"
     ]
    },
    {
     "name": "stderr",
     "output_type": "stream",
     "text": [
      "100%|██████████| 50/50 [00:01<00:00, 35.15it/s]"
     ]
    },
    {
     "name": "stdout",
     "output_type": "stream",
     "text": [
      "Nested clustering algorithm completed sucessful!\n"
     ]
    },
    {
     "name": "stderr",
     "output_type": "stream",
     "text": [
      "\n"
     ]
    }
   ],
   "source": [
    "# Investing just in a portfolio mean-variance optimized with the denoised and detoned correlation matrix\n",
    "cov0 = corr2cov(corr2)\n",
    "w_cov_only = optPortMVO(train_set, cov = cov0, cov_in = True)\n",
    "\n",
    "# NCO with normal correlation matrix and omega opimization\n",
    "dist_matrix = pairwise_distances(corr2)\n",
    "w_NCO_DO = optPort_nco(train_set, dist_matrix, 3, 0.5, 50, 5)\n",
    "\n",
    "# NCO with minkowski distance matrix and sharpe opimization\n",
    "dist_matrix = pairwise_distances(corr2)\n",
    "w_NCO_MS = optPort_nco(train_set, min_matrix, 3, 0.5, 50, 5)\n",
    "\n",
    "# NCO with normal correlation matrix and sharpe opimization\n",
    "dist_matrix = pairwise_distances(corr2)\n",
    "w_NCO_DS = optPort_nco(train_set, dist_matrix, 3, 0.5, 50, 5)"
   ]
  },
  {
   "cell_type": "markdown",
   "metadata": {},
   "source": [
    "Let's build the portfolios"
   ]
  },
  {
   "cell_type": "code",
   "execution_count": 13,
   "metadata": {},
   "outputs": [],
   "source": [
    "# Correlation matrix only\n",
    "port_COV = Portfolio(\"Denoised and Detoned\", test_set, w_cov_only)\n",
    "# Minkowski Omega\n",
    "port_NCOMO = Portfolio(\"NCO Minkowski Omega\", test_set, w_NCOMO)\n",
    "# Minkowski Sharpe\n",
    "port_NCOMS = Portfolio(\"NCO Minkowski Sharpe\", test_set, w_NCO_MS)\n",
    "# Correlation Omega\n",
    "port_NCODO = Portfolio(\"NCO Correlation Omega\", test_set, w_NCO_DO)\n",
    "# Correlation Sharpe\n",
    "port_NCODS = Portfolio(\"NCO Correlation Sharpe\", test_set, w_NCO_DS)\n",
    "\n",
    "# Combined\n",
    "BM2 = PortfolioBenchmarking([port_COV, port_NCOMO, port_NCOMS, port_NCODO, port_NCODS])"
   ]
  },
  {
   "cell_type": "markdown",
   "metadata": {},
   "source": [
    "Performance Comparison"
   ]
  },
  {
   "cell_type": "code",
   "execution_count": 15,
   "metadata": {},
   "outputs": [
    {
     "data": {
      "image/png": "[encoded data removed]",
      "text/plain": [
       "<Figure size 640x480 with 1 Axes>"
      ]
     },
     "metadata": {},
     "output_type": "display_data"
    }
   ],
   "source": [
    "BM2.plot_performance()"
   ]
  },
  {
   "cell_type": "markdown",
   "metadata": {},
   "source": [
    "##### 4.1.3 Long-Only vs. Long-Short"
   ]
  },
  {
   "cell_type": "markdown",
   "metadata": {},
   "source": [
    "Lets get the portfolio weights"
   ]
  },
  {
   "cell_type": "code",
   "execution_count": 16,
   "metadata": {},
   "outputs": [
    {
     "ename": "TypeError",
     "evalue": "optPort_nco() got an unexpected keyword argument 'constraint'",
     "output_type": "error",
     "traceback": [
      "\u001b[0;31m---------------------------------------------------------------------------\u001b[0m",
      "\u001b[0;31mTypeError\u001b[0m                                 Traceback (most recent call last)",
      "Cell \u001b[0;32mIn [16], line 2\u001b[0m\n\u001b[1;32m      1\u001b[0m \u001b[39m# Long Only\u001b[39;00m\n\u001b[0;32m----> 2\u001b[0m w_NCOMO_LO \u001b[39m=\u001b[39m optPort_nco(train_set, min_matrix, \u001b[39m3\u001b[39;49m, \u001b[39m0.5\u001b[39;49m, \u001b[39m50\u001b[39;49m, \u001b[39m5\u001b[39;49m, constraint \u001b[39m=\u001b[39;49m \u001b[39m\"\u001b[39;49m\u001b[39mLong-Only\u001b[39;49m\u001b[39m\"\u001b[39;49m)\n\u001b[1;32m      3\u001b[0m \u001b[39m#Long Short\u001b[39;00m\n\u001b[1;32m      4\u001b[0m w_NCOMO_LO \u001b[39m=\u001b[39m optPort_nco(train_set, min_matrix, \u001b[39m3\u001b[39m, \u001b[39m0.5\u001b[39m, \u001b[39m50\u001b[39m, \u001b[39m5\u001b[39m, constraint \u001b[39m=\u001b[39m \u001b[39m\"\u001b[39m\u001b[39mLong-Short\u001b[39m\u001b[39m\"\u001b[39m)\n",
      "\u001b[0;31mTypeError\u001b[0m: optPort_nco() got an unexpected keyword argument 'constraint'"
     ]
    }
   ],
   "source": [
    "# Long Only\n",
    "w_NCOMO_LO = optPort_nco(train_set, min_matrix, 3, 0.5, 50, 5, constraint = \"Long-Only\")\n",
    "#Long Short\n",
    "w_NCOMO_LO = optPort_nco(train_set, min_matrix, 3, 0.5, 50, 5, constraint = \"Long-Short\")"
   ]
  }
 ],
 "metadata": {
  "kernelspec": {
   "display_name": "Python 3.8.8 ('thesis_venv': venv)",
   "language": "python",
   "name": "python3"
  },
  "language_info": {
   "codemirror_mode": {
    "name": "ipython",
    "version": 3
   },
   "file_extension": ".py",
   "mimetype": "text/x-python",
   "name": "python",
   "nbconvert_exporter": "python",
   "pygments_lexer": "ipython3",
   "version": "3.8.8"
  },
  "orig_nbformat": 4,
  "vscode": {
   "interpreter": {
    "hash": "67863a13b4463f7c55215db475ce7ee5125ba07ff968942bd186a68ec48ae3a3"
   }
  }
 },
 "nbformat": 4,
 "nbformat_minor": 2
}
