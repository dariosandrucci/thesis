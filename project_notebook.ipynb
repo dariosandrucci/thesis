{
 "cells": [
  {
   "cell_type": "markdown",
   "metadata": {},
   "source": [
    "# Project Notebook\n",
    "##### Created by Dario Sandrucci 48436"
   ]
  },
  {
   "cell_type": "markdown",
   "metadata": {},
   "source": [
    "bla bla bla"
   ]
  },
  {
   "cell_type": "markdown",
   "metadata": {},
   "source": [
    "### 0. Import Packages"
   ]
  },
  {
   "cell_type": "code",
   "execution_count": 41,
   "metadata": {},
   "outputs": [],
   "source": [
    "from data_engineering import *\n",
    "from denoising_and_detoning import *\n",
    "from algorithm import *\n",
    "from portfolio_and_backtesting import *"
   ]
  },
  {
   "cell_type": "markdown",
   "metadata": {},
   "source": [
    "### 1. Data Preparation and Exploration"
   ]
  },
  {
   "cell_type": "markdown",
   "metadata": {},
   "source": [
    "##### 1.1 Loading Data"
   ]
  },
  {
   "cell_type": "markdown",
   "metadata": {},
   "source": [
    "Let import return data from S&P 500 stocks over the period of approximately the last 10 years."
   ]
  },
  {
   "cell_type": "code",
   "execution_count": null,
   "metadata": {},
   "outputs": [
    {
     "name": "stdout",
     "output_type": "stream",
     "text": [
      "Data was loaded sucessfully!\n"
     ]
    }
   ],
   "source": [
    "tickers = getTickers()\n",
    "end = dt.now()\n",
    "start = dt.fromisoformat('2017-11-17')\n",
    "df = getData(start, end, tickers, downloaded = True)"
   ]
  },
  {
   "cell_type": "markdown",
   "metadata": {},
   "source": [
    "##### 1.2 Data Visualization"
   ]
  },
  {
   "cell_type": "markdown",
   "metadata": {},
   "source": [
    "A chart the shows the percentage returns over the period of the sample."
   ]
  },
  {
   "cell_type": "code",
   "execution_count": null,
   "metadata": {},
   "outputs": [],
   "source": [
    "ax = df.plot(legend=False, figsize=(20,10))\n",
    "ax.set_ylabel('percentage returns')\n",
    "ax.set_title('Log Returns of S&P500 Stocks for Training Period')"
   ]
  },
  {
   "cell_type": "markdown",
   "metadata": {},
   "source": [
    "A chart to show the cummulative returns of the SPY index over the data period."
   ]
  },
  {
   "cell_type": "code",
   "execution_count": null,
   "metadata": {},
   "outputs": [],
   "source": [
    "spy_returns = pdr.get_data_yahoo([\"SPY\"], start, end)[\"Close\"]\n",
    "spy_returns = spy_returns.pct_change().dropna(axis = 0)\n",
    "spy_cum = np.cumprod(1 + spy_returns) - 1\n",
    "spy_cum.columns = [\"S&P 500 Index\"]\n",
    "\n",
    "ax = spy_cum.plot(legend=False, figsize=(8,5))\n",
    "ax.set_ylabel('cumulative returns')\n",
    "ax.set_title('Cummulative returns of the S&P 500 Index over the period of the data set')"
   ]
  },
  {
   "cell_type": "markdown",
   "metadata": {},
   "source": [
    "##### 1.3 Data Transformation"
   ]
  },
  {
   "cell_type": "markdown",
   "metadata": {},
   "source": [
    "We will split the set into train and test set."
   ]
  },
  {
   "cell_type": "code",
   "execution_count": null,
   "metadata": {},
   "outputs": [],
   "source": [
    "train_set, test_set = testTrainSplit(df, validation_set = False, w_tt = [0.8, 0.2])"
   ]
  },
  {
   "cell_type": "markdown",
   "metadata": {},
   "source": [
    "Now lets derive the empirical correlation matrix of our return data."
   ]
  },
  {
   "cell_type": "code",
   "execution_count": null,
   "metadata": {},
   "outputs": [],
   "source": [
    "corr0 = pd.DataFrame(getCorrMatrix(train_set), index = train_set.columns, columns = train_set.columns )"
   ]
  },
  {
   "cell_type": "code",
   "execution_count": null,
   "metadata": {},
   "outputs": [],
   "source": [
    "# Create a heatmap of the correlation matrix\n",
    "sns.heatmap(corr0)\n",
    "plt.title('Correlation Matrix')\n",
    "\n",
    "# Create a clustermap\n",
    "sns.clustermap(corr0, method='average', figsize=(8,8)).fig.suptitle('Stocks Clustered Based on Correlation Distances', fontsize=14)"
   ]
  },
  {
   "cell_type": "markdown",
   "metadata": {},
   "source": [
    "### 2. Denoise and Detone the Empirical correlation Matrix"
   ]
  },
  {
   "cell_type": "markdown",
   "metadata": {},
   "source": [
    "Lets denoise the correlation matrix."
   ]
  },
  {
   "cell_type": "code",
   "execution_count": null,
   "metadata": {},
   "outputs": [],
   "source": [
    "eVal0, eVec0, eVal1, eVec1, corr1, var0 = denoiseMatrix(corr0)"
   ]
  },
  {
   "cell_type": "code",
   "execution_count": null,
   "metadata": {},
   "outputs": [],
   "source": [
    "# Create a heatmap of the correlation matrix\n",
    "sns.heatmap(corr1)\n",
    "plt.title('Correlation Matrix')\n",
    "\n",
    "# Create a clustermap\n",
    "sns.clustermap(corr1, method='average', figsize=(8,8)).fig.suptitle('Stocks Clustered Based on Correlation Distances', fontsize=14)"
   ]
  },
  {
   "cell_type": "markdown",
   "metadata": {},
   "source": [
    "Next lets detone the correlation matrix."
   ]
  },
  {
   "cell_type": "code",
   "execution_count": null,
   "metadata": {},
   "outputs": [],
   "source": [
    "corr2 = detoneMatrix(corr1, eVal1, eVec1)"
   ]
  },
  {
   "cell_type": "code",
   "execution_count": null,
   "metadata": {},
   "outputs": [],
   "source": [
    "# Create a heatmap of the correlation matrix\n",
    "sns.heatmap(corr2)\n",
    "plt.title('Correlation Matrix')\n",
    "\n",
    "# Create a clustermap\n",
    "sns.clustermap(corr2, method='average', figsize=(8,8)).fig.suptitle('Stocks Clustered Based on Correlation Distances', fontsize=14)"
   ]
  },
  {
   "cell_type": "code",
   "execution_count": null,
   "metadata": {},
   "outputs": [],
   "source": [
    "def denoise_and_detone(rets):\n",
    "    corr0 = getCorrMatrix(rets)\n",
    "    eVal0, eVec0, eVal1, eVec1, corr1, var0 = denoiseMatrix(corr0)\n",
    "    corr2 = detoneMatrix(corr1, eVal1, eVec1)\n",
    "    return corr2"
   ]
  },
  {
   "cell_type": "markdown",
   "metadata": {},
   "source": [
    "## 3. Distance Metrics"
   ]
  },
  {
   "cell_type": "markdown",
   "metadata": {},
   "source": [
    "We will use the mikowski distance metric. Our denoised and detoned correlation matrix is transformed accordingly."
   ]
  },
  {
   "cell_type": "code",
   "execution_count": null,
   "metadata": {},
   "outputs": [],
   "source": [
    "from sklearn.metrics import pairwise_distances"
   ]
  },
  {
   "cell_type": "markdown",
   "metadata": {},
   "source": [
    "Now lets create our 11 distance matricies with our p values."
   ]
  },
  {
   "cell_type": "code",
   "execution_count": null,
   "metadata": {},
   "outputs": [],
   "source": [
    "min_matrix = np.array(pairwise_distances(corr2, metric = \"minkowski\"))"
   ]
  },
  {
   "cell_type": "markdown",
   "metadata": {},
   "source": [
    "## 3. Portfolio Construction"
   ]
  },
  {
   "cell_type": "markdown",
   "metadata": {},
   "source": [
    "#### 3.1 Clustering"
   ]
  },
  {
   "cell_type": "markdown",
   "metadata": {},
   "source": [
    "##### 3.1.1 Finding the number of clusters"
   ]
  },
  {
   "cell_type": "markdown",
   "metadata": {},
   "source": [
    "Our first method is the Elbow method"
   ]
  },
  {
   "cell_type": "code",
   "execution_count": null,
   "metadata": {},
   "outputs": [],
   "source": [
    "nr_clusters_sse = sse(min_matricies[10])"
   ]
  },
  {
   "cell_type": "markdown",
   "metadata": {},
   "source": [
    "Now lets try the Silhouette method"
   ]
  },
  {
   "cell_type": "code",
   "execution_count": null,
   "metadata": {},
   "outputs": [],
   "source": [
    "nr_clusters_sil = sil_score(min_matrix)"
   ]
  },
  {
   "cell_type": "markdown",
   "metadata": {},
   "source": [
    "Our last method is the Davies-Boulding Score"
   ]
  },
  {
   "cell_type": "code",
   "execution_count": null,
   "metadata": {},
   "outputs": [],
   "source": [
    "nr_clusters_db = db_score(min_matrix)"
   ]
  },
  {
   "cell_type": "markdown",
   "metadata": {},
   "source": [
    "We will use the median number of clusters for for Kmeans."
   ]
  },
  {
   "cell_type": "markdown",
   "metadata": {},
   "source": [
    "##### 3.1.2 Running the clustering algorithm"
   ]
  },
  {
   "cell_type": "code",
   "execution_count": null,
   "metadata": {},
   "outputs": [],
   "source": [
    "w = optPort_nco(train_set, min_matrix, 3, 0.074, 50, 5)"
   ]
  },
  {
   "cell_type": "markdown",
   "metadata": {},
   "source": [
    "## 4. Perfromance evaluation"
   ]
  },
  {
   "cell_type": "markdown",
   "metadata": {},
   "source": [
    "#### 4.1. Benchmarking"
   ]
  },
  {
   "cell_type": "markdown",
   "metadata": {},
   "source": [
    "##### 4.1.1 Distance metric tuning"
   ]
  },
  {
   "cell_type": "markdown",
   "metadata": {},
   "source": [
    "Lets define possible p values for out minkoswki distance metric."
   ]
  },
  {
   "cell_type": "code",
   "execution_count": null,
   "metadata": {},
   "outputs": [],
   "source": [
    "ps = [1.0,1.1,1.2,1.3,1.4,1.5,1.6,1.7,1.8,1.9,2.0]"
   ]
  },
  {
   "cell_type": "markdown",
   "metadata": {},
   "source": [
    "Now lets try out:"
   ]
  },
  {
   "cell_type": "code",
   "execution_count": null,
   "metadata": {},
   "outputs": [],
   "source": [
    "def p_tuner(train_set, corr, th = 0.074, iter = 1000):\n",
    "    min_ports = []\n",
    "    ps = [1.0,1.1,1.2,1.3,1.4,1.5,1.6,1.7,1.8,1.9,2.0]\n",
    "    for p in tqdm(ps):\n",
    "        min_matrix_ = np.array(pairwise_distances(corr, metric = \"minkowski\", p = p))\n",
    "        nr_clusters_sse = sse(min_matrix_, graph = False)\n",
    "        w_ = optPort_nco(train_set, min_matrix_, nr_clusters_sse, th, iter, 5)\n",
    "        name = f\"P = {p}; C = {nr_clusters_sse}\"\n",
    "        port = Portfolio(name, test_set, w_)\n",
    "        min_ports.append(port)\n",
    "    return min_ports"
   ]
  },
  {
   "cell_type": "code",
   "execution_count": null,
   "metadata": {},
   "outputs": [],
   "source": [
    "min_ports = p_tuner(train_set, corr2)\n",
    "min_bm = PortfolioBenchmarking(min_ports)"
   ]
  },
  {
   "cell_type": "code",
   "execution_count": null,
   "metadata": {},
   "outputs": [
    {
     "name": "stderr",
     "output_type": "stream",
     "text": [
      "/Users/dario/Desktop/Projects/thesis/algorithm/thesis_venv/lib/python3.8/site-packages/numpy/core/fromnumeric.py:3156: VisibleDeprecationWarning: Creating an ndarray from ragged nested sequences (which is a list-or-tuple of lists-or-tuples-or ndarrays with different lengths or shapes) is deprecated. If you meant to do this, you must specify 'dtype=object' when creating the ndarray.\n",
      "  return asarray(a).ndim\n"
     ]
    }
   ],
   "source": [
    "rp = min_bm.performance_report(True)"
   ]
  },
  {
   "cell_type": "code",
   "execution_count": null,
   "metadata": {},
   "outputs": [
    {
     "data": {
      "text/html": [
       "<div>\n",
       "<style scoped>\n",
       "    .dataframe tbody tr th:only-of-type {\n",
       "        vertical-align: middle;\n",
       "    }\n",
       "\n",
       "    .dataframe tbody tr th {\n",
       "        vertical-align: top;\n",
       "    }\n",
       "\n",
       "    .dataframe thead th {\n",
       "        text-align: right;\n",
       "    }\n",
       "</style>\n",
       "<table border=\"1\" class=\"dataframe\">\n",
       "  <thead>\n",
       "    <tr style=\"text-align: right;\">\n",
       "      <th></th>\n",
       "      <th>ARet</th>\n",
       "      <th>AVol</th>\n",
       "      <th>Alpha</th>\n",
       "      <th>p Alpha</th>\n",
       "      <th>Beta</th>\n",
       "      <th>Sharpe</th>\n",
       "      <th>Sortino</th>\n",
       "      <th>IR</th>\n",
       "      <th>MDD</th>\n",
       "    </tr>\n",
       "  </thead>\n",
       "  <tbody>\n",
       "    <tr>\n",
       "      <th>SPY</th>\n",
       "      <td>-0.1403</td>\n",
       "      <td>0.2408</td>\n",
       "      <td>0.0000</td>\n",
       "      <td>0.2817</td>\n",
       "      <td>1.0000</td>\n",
       "      <td>-0.5829</td>\n",
       "      <td>-0.9325</td>\n",
       "      <td>0.0000</td>\n",
       "      <td>-0.0753</td>\n",
       "    </tr>\n",
       "    <tr>\n",
       "      <th>P = 1.0; C = 3</th>\n",
       "      <td>-0.0314</td>\n",
       "      <td>0.2786</td>\n",
       "      <td>0.0005</td>\n",
       "      <td>0.2824</td>\n",
       "      <td>1.0637</td>\n",
       "      <td>-0.1126</td>\n",
       "      <td>-0.1828</td>\n",
       "      <td>0.9911</td>\n",
       "      <td>-0.0853</td>\n",
       "    </tr>\n",
       "    <tr>\n",
       "      <th>P = 1.1; C = 3</th>\n",
       "      <td>-0.0228</td>\n",
       "      <td>0.2805</td>\n",
       "      <td>0.0005</td>\n",
       "      <td>0.3056</td>\n",
       "      <td>1.0497</td>\n",
       "      <td>-0.0811</td>\n",
       "      <td>-0.1314</td>\n",
       "      <td>0.9693</td>\n",
       "      <td>-0.0857</td>\n",
       "    </tr>\n",
       "    <tr>\n",
       "      <th>P = 1.2; C = 3</th>\n",
       "      <td>-0.0175</td>\n",
       "      <td>0.2862</td>\n",
       "      <td>0.0005</td>\n",
       "      <td>0.2906</td>\n",
       "      <td>1.0687</td>\n",
       "      <td>-0.0611</td>\n",
       "      <td>-0.0991</td>\n",
       "      <td>0.9785</td>\n",
       "      <td>-0.0880</td>\n",
       "    </tr>\n",
       "    <tr>\n",
       "      <th>P = 1.3; C = 3</th>\n",
       "      <td>0.0032</td>\n",
       "      <td>0.2870</td>\n",
       "      <td>0.0006</td>\n",
       "      <td>0.2404</td>\n",
       "      <td>1.0633</td>\n",
       "      <td>0.0112</td>\n",
       "      <td>0.0181</td>\n",
       "      <td>1.1060</td>\n",
       "      <td>-0.0901</td>\n",
       "    </tr>\n",
       "    <tr>\n",
       "      <th>P = 1.4; C = 3</th>\n",
       "      <td>-0.0205</td>\n",
       "      <td>0.2892</td>\n",
       "      <td>0.0005</td>\n",
       "      <td>0.2846</td>\n",
       "      <td>1.0863</td>\n",
       "      <td>-0.0708</td>\n",
       "      <td>-0.1139</td>\n",
       "      <td>0.9654</td>\n",
       "      <td>-0.0883</td>\n",
       "    </tr>\n",
       "    <tr>\n",
       "      <th>P = 1.5; C = 3</th>\n",
       "      <td>0.0268</td>\n",
       "      <td>0.2819</td>\n",
       "      <td>0.0007</td>\n",
       "      <td>0.1877</td>\n",
       "      <td>1.0380</td>\n",
       "      <td>0.0949</td>\n",
       "      <td>0.1522</td>\n",
       "      <td>1.2830</td>\n",
       "      <td>-0.0882</td>\n",
       "    </tr>\n",
       "    <tr>\n",
       "      <th>P = 1.6; C = 3</th>\n",
       "      <td>-0.0244</td>\n",
       "      <td>0.2886</td>\n",
       "      <td>0.0005</td>\n",
       "      <td>0.3035</td>\n",
       "      <td>1.0822</td>\n",
       "      <td>-0.0846</td>\n",
       "      <td>-0.1364</td>\n",
       "      <td>0.9309</td>\n",
       "      <td>-0.0877</td>\n",
       "    </tr>\n",
       "    <tr>\n",
       "      <th>P = 1.7; C = 3</th>\n",
       "      <td>-0.0065</td>\n",
       "      <td>0.2838</td>\n",
       "      <td>0.0006</td>\n",
       "      <td>0.2779</td>\n",
       "      <td>1.0486</td>\n",
       "      <td>-0.0229</td>\n",
       "      <td>-0.0370</td>\n",
       "      <td>1.0356</td>\n",
       "      <td>-0.0887</td>\n",
       "    </tr>\n",
       "    <tr>\n",
       "      <th>P = 1.8; C = 3</th>\n",
       "      <td>0.0057</td>\n",
       "      <td>0.2877</td>\n",
       "      <td>0.0006</td>\n",
       "      <td>0.2347</td>\n",
       "      <td>1.0653</td>\n",
       "      <td>0.0197</td>\n",
       "      <td>0.0315</td>\n",
       "      <td>1.1180</td>\n",
       "      <td>-0.0896</td>\n",
       "    </tr>\n",
       "    <tr>\n",
       "      <th>P = 1.9; C = 4</th>\n",
       "      <td>-0.0192</td>\n",
       "      <td>0.2842</td>\n",
       "      <td>0.0005</td>\n",
       "      <td>0.2767</td>\n",
       "      <td>1.0695</td>\n",
       "      <td>-0.0675</td>\n",
       "      <td>-0.1082</td>\n",
       "      <td>1.0043</td>\n",
       "      <td>-0.0873</td>\n",
       "    </tr>\n",
       "    <tr>\n",
       "      <th>P = 2.0; C = 4</th>\n",
       "      <td>-0.0281</td>\n",
       "      <td>0.2713</td>\n",
       "      <td>0.0005</td>\n",
       "      <td>0.2526</td>\n",
       "      <td>1.0421</td>\n",
       "      <td>-0.1035</td>\n",
       "      <td>-0.1673</td>\n",
       "      <td>1.0895</td>\n",
       "      <td>-0.0840</td>\n",
       "    </tr>\n",
       "  </tbody>\n",
       "</table>\n",
       "</div>"
      ],
      "text/plain": [
       "                  ARet    AVol   Alpha  p Alpha    Beta  Sharpe  Sortino  \\\n",
       "SPY            -0.1403  0.2408  0.0000   0.2817  1.0000 -0.5829  -0.9325   \n",
       "P = 1.0; C = 3 -0.0314  0.2786  0.0005   0.2824  1.0637 -0.1126  -0.1828   \n",
       "P = 1.1; C = 3 -0.0228  0.2805  0.0005   0.3056  1.0497 -0.0811  -0.1314   \n",
       "P = 1.2; C = 3 -0.0175  0.2862  0.0005   0.2906  1.0687 -0.0611  -0.0991   \n",
       "P = 1.3; C = 3  0.0032  0.2870  0.0006   0.2404  1.0633  0.0112   0.0181   \n",
       "P = 1.4; C = 3 -0.0205  0.2892  0.0005   0.2846  1.0863 -0.0708  -0.1139   \n",
       "P = 1.5; C = 3  0.0268  0.2819  0.0007   0.1877  1.0380  0.0949   0.1522   \n",
       "P = 1.6; C = 3 -0.0244  0.2886  0.0005   0.3035  1.0822 -0.0846  -0.1364   \n",
       "P = 1.7; C = 3 -0.0065  0.2838  0.0006   0.2779  1.0486 -0.0229  -0.0370   \n",
       "P = 1.8; C = 3  0.0057  0.2877  0.0006   0.2347  1.0653  0.0197   0.0315   \n",
       "P = 1.9; C = 4 -0.0192  0.2842  0.0005   0.2767  1.0695 -0.0675  -0.1082   \n",
       "P = 2.0; C = 4 -0.0281  0.2713  0.0005   0.2526  1.0421 -0.1035  -0.1673   \n",
       "\n",
       "                    IR     MDD  \n",
       "SPY             0.0000 -0.0753  \n",
       "P = 1.0; C = 3  0.9911 -0.0853  \n",
       "P = 1.1; C = 3  0.9693 -0.0857  \n",
       "P = 1.2; C = 3  0.9785 -0.0880  \n",
       "P = 1.3; C = 3  1.1060 -0.0901  \n",
       "P = 1.4; C = 3  0.9654 -0.0883  \n",
       "P = 1.5; C = 3  1.2830 -0.0882  \n",
       "P = 1.6; C = 3  0.9309 -0.0877  \n",
       "P = 1.7; C = 3  1.0356 -0.0887  \n",
       "P = 1.8; C = 3  1.1180 -0.0896  \n",
       "P = 1.9; C = 4  1.0043 -0.0873  \n",
       "P = 2.0; C = 4  1.0895 -0.0840  "
      ]
     },
     "execution_count": 18,
     "metadata": {},
     "output_type": "execute_result"
    }
   ],
   "source": [
    "rp"
   ]
  },
  {
   "cell_type": "markdown",
   "metadata": {},
   "source": [
    "Now lets find out if the p value has statistical seginificance on the performance metrics."
   ]
  },
  {
   "cell_type": "code",
   "execution_count": null,
   "metadata": {},
   "outputs": [],
   "source": [
    "significance = {}\n",
    "\n",
    "for m in rp.columns:\n",
    "    pvalue_beta = round(regression(ps, rp.iloc[1:].loc[:,m].values)[4],4)\n",
    "    significance[m] = pvalue_beta"
   ]
  },
  {
   "cell_type": "code",
   "execution_count": null,
   "metadata": {},
   "outputs": [
    {
     "data": {
      "text/plain": [
       "{'ARet': 0.0173,\n",
       " 'AVol': 0.019,\n",
       " 'Alpha': 0.0173,\n",
       " 'p Alpha': 0.0841,\n",
       " 'Beta': 0.0198,\n",
       " 'Sharpe': 0.0155,\n",
       " 'Sortino': 0.0163,\n",
       " 'IR': 0.0684,\n",
       " 'MDD': 0.0004}"
      ]
     },
     "execution_count": 32,
     "metadata": {},
     "output_type": "execute_result"
    }
   ],
   "source": [
    "significance"
   ]
  },
  {
   "cell_type": "markdown",
   "metadata": {},
   "source": [
    "##### 4.1.2 Clustering vs general portfolios"
   ]
  },
  {
   "cell_type": "markdown",
   "metadata": {},
   "source": [
    "We will compare our clustering portfolio with a few other common portfolio types, the mean-variance optimized (MVP), risk-parity (RPP), and equal-weighted portfolio (EWP), as well as the S&P index itself (SPY).\n",
    "\n",
    "First let calculated the portfolio weights for our NCO algorithm. We will train our model on the train set and create a seperate validation set to tune the distance parameter p:"
   ]
  },
  {
   "cell_type": "code",
   "execution_count": null,
   "metadata": {},
   "outputs": [],
   "source": [
    "train_set_, val_set_ = testTrainSplit(train_set, validation_set = False, w_tt = [0.8,0.2])"
   ]
  },
  {
   "cell_type": "code",
   "execution_count": null,
   "metadata": {},
   "outputs": [],
   "source": [
    "corr_train = denoise_and_detone(train_set_)\n",
    "corr_val = denoise_and_detone(train_set_)"
   ]
  },
  {
   "cell_type": "code",
   "execution_count": 42,
   "metadata": {},
   "outputs": [
    {
     "name": "stderr",
     "output_type": "stream",
     "text": [
      "100%|██████████| 11/11 [03:33<00:00, 19.42s/it]\n"
     ]
    }
   ],
   "source": [
    "train_ports = p_tuner(train_set_, corr_train, iter = 50)"
   ]
  },
  {
   "cell_type": "code",
   "execution_count": 46,
   "metadata": {},
   "outputs": [
    {
     "name": "stderr",
     "output_type": "stream",
     "text": [
      "/Users/dario/Desktop/Projects/thesis/algorithm/thesis_venv/lib/python3.8/site-packages/numpy/core/fromnumeric.py:3156: VisibleDeprecationWarning: Creating an ndarray from ragged nested sequences (which is a list-or-tuple of lists-or-tuples-or ndarrays with different lengths or shapes) is deprecated. If you meant to do this, you must specify 'dtype=object' when creating the ndarray.\n",
      "  return asarray(a).ndim\n"
     ]
    }
   ],
   "source": [
    "p_selection = PortfolioBenchmarking(train_ports)\n",
    "rep = p_selection.performance_report()[\"Sharpe\"].iloc[1:]"
   ]
  },
  {
   "cell_type": "markdown",
   "metadata": {},
   "source": [
    "lets find the p parameter the yielded the highest sharpe ratio over the train set and create to corresponding distance matrix."
   ]
  },
  {
   "cell_type": "code",
   "execution_count": 70,
   "metadata": {},
   "outputs": [],
   "source": [
    "rep.index = list(range(len(rep)))\n",
    "pv = ps[rep[rep == rep.max()].index.values[0]]\n",
    "min_matrix_ = np.array(pairwise_distances(corr_val, metric = \"minkowski\", p = pv))"
   ]
  },
  {
   "cell_type": "markdown",
   "metadata": {},
   "source": [
    "lets finally calculate the final weight allocation over the validation set"
   ]
  },
  {
   "cell_type": "code",
   "execution_count": 71,
   "metadata": {},
   "outputs": [
    {
     "data": {
      "image/png": "[encoded data removed]",
      "text/plain": [
       "<Figure size 600x600 with 1 Axes>"
      ]
     },
     "metadata": {},
     "output_type": "display_data"
    }
   ],
   "source": [
    "#Optimal number of clusters\n",
    "nr_clusters_ = sse(val_set_)\n",
    "#Clustering\n",
    "w_NCOMO, cluster_NCOMO = optPort_nco(val_set_, min_matrix_, nr_clusters_, 0.074, 1000, 5, ret_clust = True)"
   ]
  },
  {
   "cell_type": "markdown",
   "metadata": {},
   "source": [
    "Lets define some other benchmark portflios."
   ]
  },
  {
   "cell_type": "code",
   "execution_count": 67,
   "metadata": {},
   "outputs": [],
   "source": [
    "#EW\n",
    "w_EW = np.ones(len(train_set.columns))\n",
    "w_EW /= [len(train_set.columns)]*len(train_set.columns)\n",
    "#MVO\n",
    "w_MVO = optPortMVO(train_set)\n",
    "#RPP\n",
    "w_RPP = optPortRPP(train_set)"
   ]
  },
  {
   "cell_type": "markdown",
   "metadata": {},
   "source": [
    "Not lets build the portfolios:"
   ]
  },
  {
   "cell_type": "code",
   "execution_count": 75,
   "metadata": {},
   "outputs": [],
   "source": [
    "#building the single portfolios\n",
    "port_NCOMO = Portfolio(f\"NCO p = {pv}\", test_set, w_NCOMO)\n",
    "port_EWP = Portfolio(\"EWP\", test_set, w_EW)\n",
    "port_MVO = Portfolio(\"MVO\", test_set, w_MVO)\n",
    "port_RPP = Portfolio(\"RPP\", test_set, w_RPP)\n",
    "#comparing the portfolios\n",
    "BM1 = PortfolioBenchmarking([port_NCOMO, port_EWP, port_MVO, port_RPP])"
   ]
  },
  {
   "cell_type": "markdown",
   "metadata": {},
   "source": [
    "We are ready to perform some comparisons:"
   ]
  },
  {
   "cell_type": "code",
   "execution_count": 76,
   "metadata": {},
   "outputs": [
    {
     "data": {
      "image/png": "[encoded data removed]",
      "text/plain": [
       "<Figure size 640x480 with 1 Axes>"
      ]
     },
     "metadata": {},
     "output_type": "display_data"
    }
   ],
   "source": [
    "BM1.plot_performance()"
   ]
  },
  {
   "cell_type": "code",
   "execution_count": 77,
   "metadata": {},
   "outputs": [
    {
     "name": "stderr",
     "output_type": "stream",
     "text": [
      "/Users/dario/Desktop/Projects/thesis/algorithm/thesis_venv/lib/python3.8/site-packages/numpy/core/fromnumeric.py:3156: VisibleDeprecationWarning: Creating an ndarray from ragged nested sequences (which is a list-or-tuple of lists-or-tuples-or ndarrays with different lengths or shapes) is deprecated. If you meant to do this, you must specify 'dtype=object' when creating the ndarray.\n",
      "  return asarray(a).ndim\n"
     ]
    },
    {
     "data": {
      "text/html": [
       "<div>\n",
       "<style scoped>\n",
       "    .dataframe tbody tr th:only-of-type {\n",
       "        vertical-align: middle;\n",
       "    }\n",
       "\n",
       "    .dataframe tbody tr th {\n",
       "        vertical-align: top;\n",
       "    }\n",
       "\n",
       "    .dataframe thead th {\n",
       "        text-align: right;\n",
       "    }\n",
       "</style>\n",
       "<table border=\"1\" class=\"dataframe\">\n",
       "  <thead>\n",
       "    <tr style=\"text-align: right;\">\n",
       "      <th></th>\n",
       "      <th>ARet</th>\n",
       "      <th>AVol</th>\n",
       "      <th>Alpha</th>\n",
       "      <th>p Alpha</th>\n",
       "      <th>Beta</th>\n",
       "      <th>Sharpe</th>\n",
       "      <th>Sortino</th>\n",
       "      <th>IR</th>\n",
       "      <th>MDD</th>\n",
       "    </tr>\n",
       "  </thead>\n",
       "  <tbody>\n",
       "    <tr>\n",
       "      <th>SPY</th>\n",
       "      <td>-0.1403</td>\n",
       "      <td>0.2408</td>\n",
       "      <td>0.0000</td>\n",
       "      <td>0.2817</td>\n",
       "      <td>1.0000</td>\n",
       "      <td>-0.5829</td>\n",
       "      <td>-0.9325</td>\n",
       "      <td>0.0000</td>\n",
       "      <td>-0.0753</td>\n",
       "    </tr>\n",
       "    <tr>\n",
       "      <th>NCO p = 1.6</th>\n",
       "      <td>-0.0366</td>\n",
       "      <td>0.2772</td>\n",
       "      <td>0.0005</td>\n",
       "      <td>0.3020</td>\n",
       "      <td>1.0592</td>\n",
       "      <td>-0.1321</td>\n",
       "      <td>-0.2151</td>\n",
       "      <td>0.9545</td>\n",
       "      <td>-0.0847</td>\n",
       "    </tr>\n",
       "    <tr>\n",
       "      <th>EWP</th>\n",
       "      <td>-0.0734</td>\n",
       "      <td>0.2334</td>\n",
       "      <td>0.0002</td>\n",
       "      <td>0.2506</td>\n",
       "      <td>0.9459</td>\n",
       "      <td>-0.3143</td>\n",
       "      <td>-0.5125</td>\n",
       "      <td>1.2649</td>\n",
       "      <td>-0.0722</td>\n",
       "    </tr>\n",
       "    <tr>\n",
       "      <th>MVO</th>\n",
       "      <td>-0.0924</td>\n",
       "      <td>0.2354</td>\n",
       "      <td>0.0002</td>\n",
       "      <td>0.4021</td>\n",
       "      <td>0.9558</td>\n",
       "      <td>-0.3925</td>\n",
       "      <td>-0.6432</td>\n",
       "      <td>0.9453</td>\n",
       "      <td>-0.0711</td>\n",
       "    </tr>\n",
       "    <tr>\n",
       "      <th>RPP</th>\n",
       "      <td>-0.0749</td>\n",
       "      <td>0.2221</td>\n",
       "      <td>0.0002</td>\n",
       "      <td>0.2911</td>\n",
       "      <td>0.9003</td>\n",
       "      <td>-0.3372</td>\n",
       "      <td>-0.5475</td>\n",
       "      <td>1.2143</td>\n",
       "      <td>-0.0694</td>\n",
       "    </tr>\n",
       "  </tbody>\n",
       "</table>\n",
       "</div>"
      ],
      "text/plain": [
       "               ARet    AVol   Alpha  p Alpha    Beta  Sharpe  Sortino      IR  \\\n",
       "SPY         -0.1403  0.2408  0.0000   0.2817  1.0000 -0.5829  -0.9325  0.0000   \n",
       "NCO p = 1.6 -0.0366  0.2772  0.0005   0.3020  1.0592 -0.1321  -0.2151  0.9545   \n",
       "EWP         -0.0734  0.2334  0.0002   0.2506  0.9459 -0.3143  -0.5125  1.2649   \n",
       "MVO         -0.0924  0.2354  0.0002   0.4021  0.9558 -0.3925  -0.6432  0.9453   \n",
       "RPP         -0.0749  0.2221  0.0002   0.2911  0.9003 -0.3372  -0.5475  1.2143   \n",
       "\n",
       "                MDD  \n",
       "SPY         -0.0753  \n",
       "NCO p = 1.6 -0.0847  \n",
       "EWP         -0.0722  \n",
       "MVO         -0.0711  \n",
       "RPP         -0.0694  "
      ]
     },
     "execution_count": 77,
     "metadata": {},
     "output_type": "execute_result"
    }
   ],
   "source": [
    "BM1.performance_report()"
   ]
  },
  {
   "cell_type": "code",
   "execution_count": 79,
   "metadata": {},
   "outputs": [
    {
     "data": {
      "text/html": [
       "<div>\n",
       "<style scoped>\n",
       "    .dataframe tbody tr th:only-of-type {\n",
       "        vertical-align: middle;\n",
       "    }\n",
       "\n",
       "    .dataframe tbody tr th {\n",
       "        vertical-align: top;\n",
       "    }\n",
       "\n",
       "    .dataframe thead th {\n",
       "        text-align: right;\n",
       "    }\n",
       "</style>\n",
       "<table border=\"1\" class=\"dataframe\">\n",
       "  <thead>\n",
       "    <tr style=\"text-align: right;\">\n",
       "      <th></th>\n",
       "      <th>NCO p = 1.6</th>\n",
       "      <th>EWP</th>\n",
       "      <th>MVO</th>\n",
       "      <th>RPP</th>\n",
       "      <th>S&amp;P 500 Index</th>\n",
       "    </tr>\n",
       "  </thead>\n",
       "  <tbody>\n",
       "    <tr>\n",
       "      <th>NCO p = 1.6</th>\n",
       "      <td>1.000000</td>\n",
       "      <td>0.954917</td>\n",
       "      <td>0.941714</td>\n",
       "      <td>0.939202</td>\n",
       "      <td>0.894205</td>\n",
       "    </tr>\n",
       "    <tr>\n",
       "      <th>EWP</th>\n",
       "      <td>0.954917</td>\n",
       "      <td>1.000000</td>\n",
       "      <td>0.998506</td>\n",
       "      <td>0.998493</td>\n",
       "      <td>0.977505</td>\n",
       "    </tr>\n",
       "    <tr>\n",
       "      <th>MVO</th>\n",
       "      <td>0.941714</td>\n",
       "      <td>0.998506</td>\n",
       "      <td>1.000000</td>\n",
       "      <td>0.998361</td>\n",
       "      <td>0.986396</td>\n",
       "    </tr>\n",
       "    <tr>\n",
       "      <th>RPP</th>\n",
       "      <td>0.939202</td>\n",
       "      <td>0.998493</td>\n",
       "      <td>0.998361</td>\n",
       "      <td>1.000000</td>\n",
       "      <td>0.979822</td>\n",
       "    </tr>\n",
       "    <tr>\n",
       "      <th>S&amp;P 500 Index</th>\n",
       "      <td>0.894205</td>\n",
       "      <td>0.977505</td>\n",
       "      <td>0.986396</td>\n",
       "      <td>0.979822</td>\n",
       "      <td>1.000000</td>\n",
       "    </tr>\n",
       "  </tbody>\n",
       "</table>\n",
       "</div>"
      ],
      "text/plain": [
       "               NCO p = 1.6       EWP       MVO       RPP  S&P 500 Index\n",
       "NCO p = 1.6       1.000000  0.954917  0.941714  0.939202       0.894205\n",
       "EWP               0.954917  1.000000  0.998506  0.998493       0.977505\n",
       "MVO               0.941714  0.998506  1.000000  0.998361       0.986396\n",
       "RPP               0.939202  0.998493  0.998361  1.000000       0.979822\n",
       "S&P 500 Index     0.894205  0.977505  0.986396  0.979822       1.000000"
      ]
     },
     "execution_count": 79,
     "metadata": {},
     "output_type": "execute_result"
    }
   ],
   "source": [
    "BM1.cum_returns.corr()"
   ]
  },
  {
   "cell_type": "markdown",
   "metadata": {},
   "source": [
    "##### 4.1.2 Cluster algorithm configurations"
   ]
  },
  {
   "cell_type": "markdown",
   "metadata": {},
   "source": [
    "We will now compare different configurations of the NCO to see the impact of different inputs. First lets calculate again the different weights:"
   ]
  },
  {
   "cell_type": "code",
   "execution_count": null,
   "metadata": {},
   "outputs": [],
   "source": [
    "# Investing just in a portfolio mean-variance optimized with the denoised and detoned correlation matrix\n",
    "cov0 = corr2cov(corr2)\n",
    "w_cov_only = optPortMVO(train_set, cov = cov0, cov_in = True)\n",
    "\n",
    "# NCO with normal correlation matrix and omega opimization\n",
    "dist_matrix = pairwise_distances(corr2)\n",
    "w_NCO_DO = optPort_nco(train_set, dist_matrix, 3, 0.5, 50, 5)\n",
    "\n",
    "# NCO with minkowski distance matrix and sharpe opimization\n",
    "dist_matrix = pairwise_distances(corr2)\n",
    "w_NCO_MS = optPort_nco(train_set, min_matrix, 3, 0.5, 50, 5, score = \"sharpe\")\n",
    "\n",
    "# NCO with normal correlation matrix and sharpe opimization\n",
    "dist_matrix = pairwise_distances(corr2)\n",
    "w_NCO_DS = optPort_nco(train_set, dist_matrix, 3, 0.5, 50, 5, score = \"sharpe\")"
   ]
  },
  {
   "cell_type": "markdown",
   "metadata": {},
   "source": [
    "Let's build the portfolios"
   ]
  },
  {
   "cell_type": "code",
   "execution_count": null,
   "metadata": {},
   "outputs": [],
   "source": [
    "# Correlation matrix only\n",
    "port_COV = Portfolio(\"Denoised and Detoned\", test_set, w_cov_only)\n",
    "# Minkowski Omega\n",
    "port_NCOMO = Portfolio(\"NCO Minkowski Omega\", test_set, w_NCOMO)\n",
    "# Minkowski Sharpe\n",
    "port_NCOMS = Portfolio(\"NCO Minkowski Sharpe\", test_set, w_NCO_MS)\n",
    "# Correlation Omega\n",
    "port_NCODO = Portfolio(\"NCO Correlation Omega\", test_set, w_NCO_DO)\n",
    "# Correlation Sharpe\n",
    "port_NCODS = Portfolio(\"NCO Correlation Sharpe\", test_set, w_NCO_DS)\n",
    "\n",
    "# Combined\n",
    "BM2 = PortfolioBenchmarking([port_COV, port_NCOMO, port_NCOMS, port_NCODO, port_NCODS])"
   ]
  },
  {
   "cell_type": "markdown",
   "metadata": {},
   "source": [
    "Performance Comparison"
   ]
  },
  {
   "cell_type": "code",
   "execution_count": null,
   "metadata": {},
   "outputs": [],
   "source": [
    "BM2.plot_performance()"
   ]
  },
  {
   "cell_type": "markdown",
   "metadata": {},
   "source": [
    "##### 4.1.3 Long-Only vs. Long-Short"
   ]
  },
  {
   "cell_type": "markdown",
   "metadata": {},
   "source": [
    "Lets get the portfolio weights"
   ]
  },
  {
   "cell_type": "code",
   "execution_count": null,
   "metadata": {},
   "outputs": [],
   "source": [
    "# Long Only\n",
    "w_NCOMO_LO = optPort_nco(train_set, min_matrix, 3, 0.5, 50, 5, constraint = \"Long-Only\")\n",
    "#Long Short\n",
    "w_NCOMO_LS = optPort_nco(train_set, min_matrix, 3, 0.5, 50, 5, constraint = \"Long-Short\")"
   ]
  },
  {
   "cell_type": "markdown",
   "metadata": {},
   "source": [
    "Lets build the portfolio"
   ]
  },
  {
   "cell_type": "code",
   "execution_count": null,
   "metadata": {},
   "outputs": [],
   "source": [
    "# Correlation matrix only\n",
    "port_NCOMO_LO = Portfolio(\"NCO Long-Only\", test_set, w_NCOMO_LO)\n",
    "# Minkowski Omega\n",
    "port_NCOMO_LS = Portfolio(\"NCO Long-Short\", test_set, w_NCOMO_LS)\n",
    "\n",
    "# Combined\n",
    "BM3 = PortfolioBenchmarking([port_NCOMO_LS, port_NCOMO_LO])"
   ]
  },
  {
   "cell_type": "markdown",
   "metadata": {},
   "source": [
    "Let compare"
   ]
  },
  {
   "cell_type": "code",
   "execution_count": null,
   "metadata": {},
   "outputs": [],
   "source": [
    "BM3.plot_performance()"
   ]
  },
  {
   "cell_type": "markdown",
   "metadata": {},
   "source": [
    "### 4.2. Robustness Analysis"
   ]
  },
  {
   "cell_type": "markdown",
   "metadata": {},
   "source": [
    "##### 4.2.1 Time dimensioning"
   ]
  },
  {
   "cell_type": "markdown",
   "metadata": {},
   "source": [
    "Let discover the effect of different train-test split layouts on the model performance. The are 2 parateter that we will explore. The ratio of train and test split and the overall sample size."
   ]
  },
  {
   "cell_type": "markdown",
   "metadata": {},
   "source": [
    "Train Test Ration"
   ]
  },
  {
   "cell_type": "code",
   "execution_count": null,
   "metadata": {},
   "outputs": [],
   "source": []
  },
  {
   "cell_type": "markdown",
   "metadata": {},
   "source": [
    "##### 4.2.2 Rebalacing"
   ]
  },
  {
   "cell_type": "markdown",
   "metadata": {},
   "source": [
    "Let discover the effect of rebalacing on the porfolio performance."
   ]
  },
  {
   "cell_type": "code",
   "execution_count": null,
   "metadata": {},
   "outputs": [],
   "source": [
    "investment_start = test_set.index[0]\n",
    "investment_start\n",
    "# potfolio with rebalacing\n",
    "ret_RB, clusters_RB = optPort_nco_RB(df, investment_start, 50, ret_clust = True)"
   ]
  },
  {
   "cell_type": "code",
   "execution_count": null,
   "metadata": {},
   "outputs": [],
   "source": [
    "port_NCOMO_RB = Portfolio_Ret(\"NCO Monthly Rebalanced\", ret_RB.iloc[:len(ret_RB)-1])"
   ]
  },
  {
   "cell_type": "code",
   "execution_count": null,
   "metadata": {},
   "outputs": [],
   "source": [
    "bm4 = PortfolioBenchmarking([port_NCOMO_RB, port_NCOMO])"
   ]
  },
  {
   "cell_type": "code",
   "execution_count": null,
   "metadata": {},
   "outputs": [],
   "source": [
    "bm4.plot_performance()"
   ]
  },
  {
   "cell_type": "markdown",
   "metadata": {},
   "source": [
    "##### 4.2.3 Application in a different market environment"
   ]
  },
  {
   "cell_type": "markdown",
   "metadata": {},
   "source": [
    "For compareable data we will use the components of the Jakarta Composite Index. "
   ]
  },
  {
   "cell_type": "code",
   "execution_count": null,
   "metadata": {},
   "outputs": [],
   "source": [
    "df_tyo = pd.read_csv(\"data/nikkei225comps.csv\")\n",
    "df_tyo = df_tyo.set_index(\"Date\").pct_change().iloc[1:]\n",
    "df_tyo.index = pd.to_datetime(df_tyo.index)"
   ]
  },
  {
   "cell_type": "code",
   "execution_count": null,
   "metadata": {},
   "outputs": [],
   "source": [
    "train_set_tyo, test_set_tyo = testTrainSplit(df_tyo, validation_set = False, w_tt = [0.8, 0.2])\n",
    "\n",
    "corr0_tyo = train_set_tyo.corr()#.fillna(0)\n",
    "\n",
    "eVal0_tyo, eVec0_tyo, eVal1_tyo, eVec1_tyo, corr1_tyo, var0_tyo = denoiseMatrix(corr0_tyo)\n",
    "corr2_tyo = detoneMatrix(corr1_tyo, eVal1_tyo, eVec1_tyo)\n",
    "\n",
    "min_matrix_tyo = np.array(pairwise_distances(corr2_tyo, metric = \"minkowski\"))"
   ]
  },
  {
   "cell_type": "code",
   "execution_count": null,
   "metadata": {},
   "outputs": [],
   "source": [
    "sse(min_matrix_tyo)"
   ]
  },
  {
   "cell_type": "code",
   "execution_count": null,
   "metadata": {},
   "outputs": [],
   "source": [
    "w_tyo = optPort_nco(train_set_tyo, min_matrix_tyo, 3, 0.5, 500, 5)"
   ]
  },
  {
   "cell_type": "code",
   "execution_count": null,
   "metadata": {},
   "outputs": [],
   "source": [
    "# Jakarta Composite NCO Optimized Port\n",
    "tyo_port = Portfolio(\"NCO Nikkei225 Components\", test_set_tyo[1:], w_tyo)\n",
    "# Jakarta Composite Index\n",
    "nikkei225_ret = pdr.get_data_yahoo([\"^N225\"], test_set_tyo.index[0], end)[\"Close\"].pct_change()[1:len(test_set_tyo)]\n",
    "nikkei225_ret = pd.Series(nikkei225_ret.values.reshape(-1), index = nikkei225_ret.index)\n",
    "nikkei225_port = Portfolio_Ret(\"Nikkei225 Index\", nikkei225_ret)"
   ]
  },
  {
   "cell_type": "code",
   "execution_count": null,
   "metadata": {},
   "outputs": [],
   "source": [
    "BM5 = PortfolioBenchmarking([tyo_port,nikkei225_port])"
   ]
  },
  {
   "cell_type": "code",
   "execution_count": null,
   "metadata": {},
   "outputs": [],
   "source": [
    "BM5.plot_performance(False)"
   ]
  },
  {
   "cell_type": "markdown",
   "metadata": {},
   "source": [
    "## 5. Interpretatbility"
   ]
  },
  {
   "cell_type": "markdown",
   "metadata": {},
   "source": [
    "#### 5.1 Cluster Analysis"
   ]
  },
  {
   "cell_type": "markdown",
   "metadata": {},
   "source": [
    "##### 5.1.1 Cluster persistatance"
   ]
  },
  {
   "cell_type": "markdown",
   "metadata": {},
   "source": [
    "We will take a look at the rebalanced portfolio and see whether the components of the clusters that found be the algorithm persist with time."
   ]
  },
  {
   "cell_type": "code",
   "execution_count": null,
   "metadata": {},
   "outputs": [],
   "source": [
    "def persistance_counter(clusters):\n",
    "    nr_clusters = len(clusters[0])\n",
    "    output = {}\n",
    "    base_clusters = {}\n",
    "\n",
    "    for i in range(nr_clusters):\n",
    "        output[i] = []\n",
    "        base_clusters[i] = np.array(clusters[0][i])\n",
    "\n",
    "    for rb in clusters:\n",
    "        cl = []\n",
    "        for nr, cluster in rb.items():\n",
    "            cl.append(cluster)\n",
    "        for nr, cluster in rb.items():\n",
    "            l = 0\n",
    "            for c in cl:\n",
    "                int = len(np.intersect1d(base_clusters[nr],np.array(c)))\n",
    "                if int > l:\n",
    "                    l = int\n",
    "                else:\n",
    "                    pass\n",
    "            output[nr].append(l)\n",
    "    return output"
   ]
  },
  {
   "cell_type": "code",
   "execution_count": null,
   "metadata": {},
   "outputs": [],
   "source": [
    "pc = persistance_counter(clusters_RB)"
   ]
  },
  {
   "cell_type": "code",
   "execution_count": null,
   "metadata": {},
   "outputs": [],
   "source": [
    "sns.lineplot(pd.DataFrame(pc), )"
   ]
  },
  {
   "cell_type": "markdown",
   "metadata": {},
   "source": [
    "##### 5.1.2 Cluster Interpretation"
   ]
  },
  {
   "cell_type": "code",
   "execution_count": null,
   "metadata": {},
   "outputs": [],
   "source": [
    "stock_finder = {}\n",
    "for nr in range(len(df.columns)):\n",
    "    stock_finder[nr] = df.columns[nr]\n",
    "clusters_ticker = {}\n",
    "for cl, stocks in cluster_NCOMO.items():\n",
    "    clusters_ticker[cl] = []\n",
    "    for stock in stocks:\n",
    "        clusters_ticker[cl].append(stock_finder[stock])    \n"
   ]
  }
 ],
 "metadata": {
  "kernelspec": {
   "display_name": "Python 3.8.8 ('thesis_venv': venv)",
   "language": "python",
   "name": "python3"
  },
  "language_info": {
   "codemirror_mode": {
    "name": "ipython",
    "version": 3
   },
   "file_extension": ".py",
   "mimetype": "text/x-python",
   "name": "python",
   "nbconvert_exporter": "python",
   "pygments_lexer": "ipython3",
   "version": "3.8.8"
  },
  "orig_nbformat": 4,
  "vscode": {
   "interpreter": {
    "hash": "67863a13b4463f7c55215db475ce7ee5125ba07ff968942bd186a68ec48ae3a3"
   }
  }
 },
 "nbformat": 4,
 "nbformat_minor": 2
}
